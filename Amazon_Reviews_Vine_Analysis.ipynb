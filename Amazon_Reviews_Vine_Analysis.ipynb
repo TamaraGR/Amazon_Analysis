{
  "nbformat": 4,
  "nbformat_minor": 0,
  "metadata": {
    "colab": {
      "name": "Amazon_Reviews_Vine_Analysis.ipynb",
      "provenance": [],
      "collapsed_sections": []
    },
    "kernelspec": {
      "name": "python3",
      "display_name": "Python 3"
    },
    "language_info": {
      "name": "python"
    }
  },
  "cells": [
    {
      "cell_type": "code",
      "metadata": {
        "colab": {
          "base_uri": "https://localhost:8080/"
        },
        "id": "eYrssY9s0KWc",
        "outputId": "62784dec-3a8d-47cb-d282-2fa82117efd5"
      },
      "source": [
        "import os\n",
        "# Find the latest version of spark 2.0  from http://www-us.apache.org/dist/spark/ and enter as the spark version\n",
        "# For example:\n",
        "# spark_version = 'spark-3.0.0'\n",
        "spark_version = 'spark-3.0.2'\n",
        "os.environ['SPARK_VERSION']=spark_version\n",
        "\n",
        "# Install Spark and Java\n",
        "!apt-get update\n",
        "!apt-get install openjdk-11-jdk-headless -qq > /dev/null\n",
        "!wget -q http://www-us.apache.org/dist/spark/$SPARK_VERSION/$SPARK_VERSION-bin-hadoop2.7.tgz\n",
        "!tar xf $SPARK_VERSION-bin-hadoop2.7.tgz\n",
        "!pip install -q findspark\n",
        "\n",
        "# Set Environment Variables\n",
        "import os\n",
        "os.environ[\"JAVA_HOME\"] = \"/usr/lib/jvm/java-11-openjdk-amd64\"\n",
        "os.environ[\"SPARK_HOME\"] = f\"/content/{spark_version}-bin-hadoop2.7\"\n",
        "\n",
        "# Start a SparkSession\n",
        "import findspark\n",
        "findspark.init()"
      ],
      "execution_count": 1,
      "outputs": [
        {
          "output_type": "stream",
          "text": [
            "\r0% [Working]\r            \rGet:1 http://ppa.launchpad.net/c2d4u.team/c2d4u4.0+/ubuntu bionic InRelease [15.9 kB]\n",
            "\r0% [Waiting for headers] [Connecting to security.ubuntu.com (91.189.91.38)] [Co\r                                                                               \rHit:2 http://archive.ubuntu.com/ubuntu bionic InRelease\n",
            "\r0% [Waiting for headers] [Connecting to security.ubuntu.com (91.189.91.38)] [Co\r                                                                               \rGet:3 http://archive.ubuntu.com/ubuntu bionic-updates InRelease [88.7 kB]\n",
            "\r                                                                               \rGet:4 https://cloud.r-project.org/bin/linux/ubuntu bionic-cran40/ InRelease [3,626 B]\n",
            "\r                                                                               \rHit:5 http://ppa.launchpad.net/cran/libgit2/ubuntu bionic InRelease\n",
            "\r0% [Waiting for headers] [Connecting to security.ubuntu.com (91.189.91.38)] [Wa\r0% [2 InRelease gpgv 242 kB] [Waiting for headers] [Connecting to security.ubun\r                                                                               \rGet:6 http://archive.ubuntu.com/ubuntu bionic-backports InRelease [74.6 kB]\n",
            "\r0% [2 InRelease gpgv 242 kB] [6 InRelease 8,393 B/74.6 kB 11%] [Connecting to s\r                                                                               \rHit:7 http://ppa.launchpad.net/deadsnakes/ppa/ubuntu bionic InRelease\n",
            "\r0% [2 InRelease gpgv 242 kB] [6 InRelease 34.5 kB/74.6 kB 46%] [Connecting to s\r0% [2 InRelease gpgv 242 kB] [Waiting for headers] [Connecting to ppa.launchpad\r                                                                               \rGet:8 http://ppa.launchpad.net/graphics-drivers/ppa/ubuntu bionic InRelease [21.3 kB]\n",
            "Get:9 http://security.ubuntu.com/ubuntu bionic-security InRelease [88.7 kB]\n",
            "Ign:10 https://developer.download.nvidia.com/compute/cuda/repos/ubuntu1804/x86_64  InRelease\n",
            "Ign:11 https://developer.download.nvidia.com/compute/machine-learning/repos/ubuntu1804/x86_64  InRelease\n",
            "Hit:12 https://developer.download.nvidia.com/compute/cuda/repos/ubuntu1804/x86_64  Release\n",
            "Hit:13 https://developer.download.nvidia.com/compute/machine-learning/repos/ubuntu1804/x86_64  Release\n",
            "Get:14 http://archive.ubuntu.com/ubuntu bionic-updates/main amd64 Packages [2,475 kB]\n",
            "Get:15 http://archive.ubuntu.com/ubuntu bionic-updates/universe amd64 Packages [2,170 kB]\n",
            "Get:16 http://archive.ubuntu.com/ubuntu bionic-updates/restricted amd64 Packages [378 kB]\n",
            "Get:17 http://ppa.launchpad.net/c2d4u.team/c2d4u4.0+/ubuntu bionic/main Sources [1,748 kB]\n",
            "Get:18 http://ppa.launchpad.net/c2d4u.team/c2d4u4.0+/ubuntu bionic/main amd64 Packages [894 kB]\n",
            "Get:19 http://ppa.launchpad.net/graphics-drivers/ppa/ubuntu bionic/main amd64 Packages [49.4 kB]\n",
            "Get:22 http://security.ubuntu.com/ubuntu bionic-security/main amd64 Packages [2,045 kB]\n",
            "Get:23 http://security.ubuntu.com/ubuntu bionic-security/restricted amd64 Packages [348 kB]\n",
            "Get:24 http://security.ubuntu.com/ubuntu bionic-security/universe amd64 Packages [1,402 kB]\n",
            "Fetched 11.8 MB in 4s (3,358 kB/s)\n",
            "Reading package lists... Done\n"
          ],
          "name": "stdout"
        }
      ]
    },
    {
      "cell_type": "code",
      "metadata": {
        "colab": {
          "base_uri": "https://localhost:8080/"
        },
        "id": "SkOCDOqt1ILR",
        "outputId": "3f9cefe5-d183-49b6-86ea-032b8f76539d"
      },
      "source": [
        "# Download the Postgres driver that will allow Spark to interact with Postgres.\n",
        "!wget https://jdbc.postgresql.org/download/postgresql-42.2.16.jar"
      ],
      "execution_count": 2,
      "outputs": [
        {
          "output_type": "stream",
          "text": [
            "--2021-03-25 19:20:18--  https://jdbc.postgresql.org/download/postgresql-42.2.16.jar\n",
            "Resolving jdbc.postgresql.org (jdbc.postgresql.org)... 72.32.157.228, 2001:4800:3e1:1::228\n",
            "Connecting to jdbc.postgresql.org (jdbc.postgresql.org)|72.32.157.228|:443... connected.\n",
            "HTTP request sent, awaiting response... 200 OK\n",
            "Length: 1002883 (979K) [application/java-archive]\n",
            "Saving to: ‘postgresql-42.2.16.jar’\n",
            "\n",
            "postgresql-42.2.16. 100%[===================>] 979.38K  1.64MB/s    in 0.6s    \n",
            "\n",
            "2021-03-25 19:20:20 (1.64 MB/s) - ‘postgresql-42.2.16.jar’ saved [1002883/1002883]\n",
            "\n"
          ],
          "name": "stdout"
        }
      ]
    },
    {
      "cell_type": "code",
      "metadata": {
        "id": "cnb1egjn1JrW"
      },
      "source": [
        "# Import SparkSessions\n",
        "from pyspark.sql import SparkSession\n",
        "spark = SparkSession.builder.appName(\"BigData-Challenge\").config(\"spark.driver.extraClassPath\",\"/content/postgresql-42.2.16.jar\").getOrCreate()"
      ],
      "execution_count": 3,
      "outputs": []
    },
    {
      "cell_type": "code",
      "metadata": {
        "colab": {
          "base_uri": "https://localhost:8080/"
        },
        "id": "Dj86W8WG1T5r",
        "outputId": "2c2cea46-3818-4692-fd24-d51023b670cd"
      },
      "source": [
        "#Load the Amazon data into Spark DataFrame\n",
        "from pyspark import SparkFiles\n",
        "url = \"https://s3.amazonaws.com/amazon-reviews-pds/tsv/amazon_reviews_us_Digital_Music_Purchase_v1_00.tsv.gz\"\n",
        "\n",
        "#Read the Review Dataset as a DataFrame\n",
        "spark.sparkContext.addFile(url)\n",
        "df = spark.read.option(\"encoding\", \"UTF-8\").csv(SparkFiles.get(\"\"), sep=\"\\t\", header=True, inferSchema=True)\n",
        "df.show()"
      ],
      "execution_count": 4,
      "outputs": [
        {
          "output_type": "stream",
          "text": [
            "+-----------+-----------+--------------+----------+--------------+--------------------+--------------------+-----------+-------------+-----------+----+-----------------+--------------------+--------------------+-----------+\n",
            "|marketplace|customer_id|     review_id|product_id|product_parent|       product_title|    product_category|star_rating|helpful_votes|total_votes|vine|verified_purchase|     review_headline|         review_body|review_date|\n",
            "+-----------+-----------+--------------+----------+--------------+--------------------+--------------------+-----------+-------------+-----------+----+-----------------+--------------------+--------------------+-----------+\n",
            "|         US|   10293599|R14LVB34Z2Z53I|B000YMOQZY|     262935067|Knockin' On Heave...|Digital_Music_Pur...|          5|            0|          0|   N|                Y|           favorites|Great  rendition....| 2015-08-31|\n",
            "|         US|    6087195|R2M0R9CWPC82LT|B00ISAEC80|     452318038|            Flawless|Digital_Music_Pur...|          5|            0|          0|   N|                Y|          Five Stars|A good music to l...| 2015-08-31|\n",
            "|         US|   33717063| RQNQI2R3BM52A|B00VBB6AVU|     675969129|    Scandal of Grace|Digital_Music_Pur...|          4|            0|          0|   N|                Y|                Good|Not as good as th...| 2015-08-31|\n",
            "|         US|   14948020| RTUIX1135HUAB|B008A5POJO|     282925893|  I Surrender (Live)|Digital_Music_Pur...|          5|            0|          0|   N|                Y|Wonderful lyrics!...|Time to worship a...| 2015-08-31|\n",
            "|         US|   21694522| RE3QSAT8TL010|B014CW2RN4|     109077793|We Are Young (Jer...|Digital_Music_Pur...|          4|            0|          0|   N|                Y|Hot remix but too...|So this should be...| 2015-08-31|\n",
            "|         US|   14948020|R14TN65IY0NUOD|B00DRA3EOY|     959245080|        Lord, I Live|Digital_Music_Pur...|          5|            0|          0|   N|                Y|          Five Stars|Clint Brown is an...| 2015-08-31|\n",
            "|         US|   20031966|R3LIF8MCNH1ODF|B009G3U0PW|     762436916|  I'll Never Be Free|Digital_Music_Pur...|          5|            0|          0|   N|                Y|\"I'll never be fr...|LaVerne Butler is...| 2015-08-31|\n",
            "|         US|   12223745|R33X0DGA4PPQ3L|B013XBYQOS|     137980344|    All of the Stars|Digital_Music_Pur...|          5|            3|          3|   N|                N| long awaited treat!|For some reason I...| 2015-08-31|\n",
            "|         US|   30231876|R2DJJP7DQRT1ZW|B003L5H25W|     165995375|Exile On Main Str...|Digital_Music_Pur...|          5|            0|          1|   N|                Y|          Five Stars|The Stones at the...| 2015-08-31|\n",
            "|         US|   51714365|R2A8XDXW5XOT4H|B00136NVH4|     227508666|     Bat Out Of Hell|Digital_Music_Pur...|          5|            0|          0|   N|                Y|    Transcends Time.|    Simply the best.| 2015-08-31|\n",
            "|         US|   37216001|R3MJK3L7ER61TT|B0030AKPQ6|     164096943|Stronger Than Her...|Digital_Music_Pur...|          5|            0|          0|   N|                N|I Love The Flirta...|A very early hit ...| 2015-08-31|\n",
            "|         US|   49207156|R38Z7XMCVDR0R5|B014EQE0V0|     714368268|You Hold It All (...|Digital_Music_Pur...|          5|            1|          1|   N|                Y|          Five Stars|Inspired by this ...| 2015-08-31|\n",
            "|         US|    2472364|R3FFESBQXPR7S6|B00USW4ZVU|      50310906|   Pressure - Single|Digital_Music_Pur...|          4|            0|          0|   N|                Y|Talented new gosp...|Great new artist....| 2015-08-31|\n",
            "|         US|   22612468|R3QO6Z942CKH34|B00ZZDJAX0|     162295903|What Are The Chan...|Digital_Music_Pur...|          5|            1|          1|   N|                Y|        Awesome song|Great song off th...| 2015-08-31|\n",
            "|         US|    2254795|R297119MDWMG9P|B014DIWONU|      44838453|Beauty Behind The...|Digital_Music_Pur...|          5|            0|          0|   N|                Y|I love every song...|The weeknd is a m...| 2015-08-31|\n",
            "|         US|   12408664| R7EJRSXIXMLIY|B005DPTQNE|     454271984|It's The Huck-A-B...|Digital_Music_Pur...|          5|            0|          0|   N|                Y|          Five Stars|       Sounds great!| 2015-08-31|\n",
            "|         US|   36236254|R2EBGPZD0B3TSV|B004LI9ATO|     519024911|  Two Purple Shadows|Digital_Music_Pur...|          5|            0|          0|   N|                N|An oldie,,, but i...|An oldie , , , bu...| 2015-08-31|\n",
            "|         US|   10456004|R229VSSFBNB90C|B00984QCM4|     647155979|         Consolation|Digital_Music_Pur...|          5|            0|          0|   N|                Y|          Five Stars|               great| 2015-08-31|\n",
            "|         US|   16822806|R12YCDYTDBJH3X|B00ZKCAK4O|     346522639|One Man Army [Exp...|Digital_Music_Pur...|          5|            0|          0|   N|                Y|One Man Army! Dow...|Real Sh*t Right H...| 2015-08-31|\n",
            "|         US|   30704319|R3DEVUNGQ2Y98S|B014GWCW8K|     260814213|Without You (feat...|Digital_Music_Pur...|          5|            0|          0|   N|                Y|          Five Stars|      Press Forward!| 2015-08-31|\n",
            "+-----------+-----------+--------------+----------+--------------+--------------------+--------------------+-----------+-------------+-----------+----+-----------------+--------------------+--------------------+-----------+\n",
            "only showing top 20 rows\n",
            "\n"
          ],
          "name": "stdout"
        }
      ]
    },
    {
      "cell_type": "code",
      "metadata": {
        "colab": {
          "base_uri": "https://localhost:8080/"
        },
        "id": "-CUzlg1m2BC6",
        "outputId": "85003002-907c-4d9b-d67c-b548d3e9ade6"
      },
      "source": [
        "#Filter the data and create a new DataFrame or table to retrieve all the rows where the total_votes count is equal to \n",
        "#or greater than 20 to pick reviews that are more likely to be helpful and to avoid having division by zero errors later on\n",
        "\n",
        "df_20_orabove = df.filter(df.total_votes >=20)\n",
        "df_20_orabove.show()"
      ],
      "execution_count": 9,
      "outputs": [
        {
          "output_type": "stream",
          "text": [
            "+-----------+-----------+--------------+----------+--------------+--------------------+--------------------+-----------+-------------+-----------+----+-----------------+--------------------+--------------------+-----------+\n",
            "|marketplace|customer_id|     review_id|product_id|product_parent|       product_title|    product_category|star_rating|helpful_votes|total_votes|vine|verified_purchase|     review_headline|         review_body|review_date|\n",
            "+-----------+-----------+--------------+----------+--------------+--------------------+--------------------+-----------+-------------+-----------+----+-----------------+--------------------+--------------------+-----------+\n",
            "|         US|   21585599|R1S0N56H5B9SUX|B00ZQKVD4Q|     550273770|        Live in Cuba|Digital_Music_Pur...|          5|           30|         30|   N|                Y|Excellent Jazz album|Excellent album. ...| 2015-08-31|\n",
            "|         US|   16227164| RCDI7Z8VCZJI9|B00YHTO1HS|     771772746|Badlands (Deluxe)...|Digital_Music_Pur...|          4|           40|         43|   N|                N|This Is What Owni...|I first heard Hal...| 2015-08-28|\n",
            "|         US|   51840199|R3F4225VTUO2WE|B00YI4B79W|     772368695|             Meliora|Digital_Music_Pur...|          1|            8|         33|   N|                N|Sounds like a Gra...|It is now exactly...| 2015-08-28|\n",
            "|         US|    2343013|  R3ADPNURCCTK|B0108UOO7Q|     915620099|Immortalized [Exp...|Digital_Music_Pur...|          1|            1|         39|   N|                N|            One Star|I was the biggest...| 2015-08-27|\n",
            "|         US|   13189348|R2LWBYC8TEUVF2|B00ZF3SIDI|     565883355|Nathaniel Ratelif...|Digital_Music_Pur...|          5|           50|         53|   N|                Y|Amazing! I discov...|Amazing!<br /><br...| 2015-08-26|\n",
            "|         US|   42571467|R23E4EIJXID5IC|B00PJUM34M|     736481072|   We Shall Overcome|Digital_Music_Pur...|          5|           43|         43|   N|                N|It's no \"Dark Sid...|If you put the al...| 2015-08-26|\n",
            "|         US|   13113713|R1WFSWDT8L5RSJ|B012JM8L6G|     881736409|     Burning Bridges|Digital_Music_Pur...|          4|           23|         26|   N|                N|Better than I exp...|Bon Jovi had a ro...| 2015-08-25|\n",
            "|         US|   43249739|R37LMHN02KOER1|B013L23ADM|     564719434|Just One Look: Cl...|Digital_Music_Pur...|          5|           50|         50|   N|                N|      Linda Times 30|Her millions of f...| 2015-08-25|\n",
            "|         US|   49116462|R297QI4VU3LMY6|B00YI4B79W|     772368695|             Meliora|Digital_Music_Pur...|          4|           41|         50|   N|                N|Not A Review For ...|So here's the thi...| 2015-08-24|\n",
            "|         US|   46942146| RGNU1L1XFX33B|B012JM8L6G|     881736409|     Burning Bridges|Digital_Music_Pur...|          3|           34|         35|   N|                N|and weren't good ...|If you look at an...| 2015-08-24|\n",
            "|         US|   14708731|R2NPE00F48X0ET|B00YI4B79W|     772368695|             Meliora|Digital_Music_Pur...|          5|           22|         27|   N|                N|From the Pinnacle...|Bands that wholly...| 2015-08-24|\n",
            "|         US|   13189971| RSPQFPJ4ISKS3|B00YI4B79W|     772368695|             Meliora|Digital_Music_Pur...|          5|           32|         35|   N|                Y|   I Love This Album|It's hard to know...| 2015-08-24|\n",
            "|         US|   49608184|R3U75LKYXVWRG8|B010XN0IQO|     818607997|As Family We Go (...|Digital_Music_Pur...|          3|           18|         23|   N|                Y|There must be a r...|Why does almost a...| 2015-08-23|\n",
            "|         US|   49907247|R2Z6WUTQEXJWCR|B0108UOO7Q|     915620099|Immortalized [Exp...|Digital_Music_Pur...|          5|           18|         20|   N|                Y|And the Heavy Met...|Immortalized is t...| 2015-08-23|\n",
            "|         US|    7487669|R140Z5HP12GL1E|B010S37LDM|     655317938|        High Country|Digital_Music_Pur...|          5|           47|         56|   N|                Y|A much better exp...|'High Country' is...| 2015-08-22|\n",
            "|         US|   49807829|R2WSVH9IPUO014|B013XBYSE6|     379064655|    All of the Stars|Digital_Music_Pur...|          1|            2|         37|   N|                N|          Sickening.|This is the worst...| 2015-08-22|\n",
            "|         US|   17026247|R25Q6S82PO8PHG|B0125KDCES|     826839790|The Oblivion Part...|Digital_Music_Pur...|          5|           23|         28|   N|                Y|If you liked the ...|SPOCK'S BEARD RET...| 2015-08-21|\n",
            "|         US|   17766147|R3HDJJN7YXFSYX|B0108UP3A8|     915620099|Immortalized (Del...|Digital_Music_Pur...|          1|            4|         58|   N|                N|SAME ALL BORING S...|DOWN TO THE BONE!...| 2015-08-21|\n",
            "|         US|   14929324|R18VNEEQLPQPPO|B00ZF3SIDI|     565883355|Nathaniel Ratelif...|Digital_Music_Pur...|          5|          146|        153|   N|                Y|Fun!  A must purc...|So there I am doz...| 2015-08-21|\n",
            "|         US|   14504100|R2KTDZKWNKNXPE|B013XBYSE6|     379064655|    All of the Stars|Digital_Music_Pur...|          5|           20|         22|   N|                Y|A meaningful song...|On this cover of ...| 2015-08-21|\n",
            "+-----------+-----------+--------------+----------+--------------+--------------------+--------------------+-----------+-------------+-----------+----+-----------------+--------------------+--------------------+-----------+\n",
            "only showing top 20 rows\n",
            "\n"
          ],
          "name": "stdout"
        }
      ]
    },
    {
      "cell_type": "code",
      "metadata": {
        "colab": {
          "base_uri": "https://localhost:8080/"
        },
        "id": "culFtcV43B6b",
        "outputId": "595a57db-717f-4483-a73b-dc488f5c6a99"
      },
      "source": [
        "#Filter the new DataFrame or table created in the previous step and create a new DataFrame or table to retrieve all\n",
        "#the rows where the number of helpful_votes divided by total_votes is equal to or greater than 50%\n",
        "df_greater_50 = df_20_orabove.filter((df_20_orabove.helpful_votes/df_20_orabove.total_votes) >= 0.5)\n",
        "df_greater_50.show()"
      ],
      "execution_count": 13,
      "outputs": [
        {
          "output_type": "stream",
          "text": [
            "+-----------+-----------+--------------+----------+--------------+--------------------+--------------------+-----------+-------------+-----------+----+-----------------+--------------------+--------------------+-----------+\n",
            "|marketplace|customer_id|     review_id|product_id|product_parent|       product_title|    product_category|star_rating|helpful_votes|total_votes|vine|verified_purchase|     review_headline|         review_body|review_date|\n",
            "+-----------+-----------+--------------+----------+--------------+--------------------+--------------------+-----------+-------------+-----------+----+-----------------+--------------------+--------------------+-----------+\n",
            "|         US|   21585599|R1S0N56H5B9SUX|B00ZQKVD4Q|     550273770|        Live in Cuba|Digital_Music_Pur...|          5|           30|         30|   N|                Y|Excellent Jazz album|Excellent album. ...| 2015-08-31|\n",
            "|         US|   16227164| RCDI7Z8VCZJI9|B00YHTO1HS|     771772746|Badlands (Deluxe)...|Digital_Music_Pur...|          4|           40|         43|   N|                N|This Is What Owni...|I first heard Hal...| 2015-08-28|\n",
            "|         US|   13189348|R2LWBYC8TEUVF2|B00ZF3SIDI|     565883355|Nathaniel Ratelif...|Digital_Music_Pur...|          5|           50|         53|   N|                Y|Amazing! I discov...|Amazing!<br /><br...| 2015-08-26|\n",
            "|         US|   42571467|R23E4EIJXID5IC|B00PJUM34M|     736481072|   We Shall Overcome|Digital_Music_Pur...|          5|           43|         43|   N|                N|It's no \"Dark Sid...|If you put the al...| 2015-08-26|\n",
            "|         US|   13113713|R1WFSWDT8L5RSJ|B012JM8L6G|     881736409|     Burning Bridges|Digital_Music_Pur...|          4|           23|         26|   N|                N|Better than I exp...|Bon Jovi had a ro...| 2015-08-25|\n",
            "|         US|   43249739|R37LMHN02KOER1|B013L23ADM|     564719434|Just One Look: Cl...|Digital_Music_Pur...|          5|           50|         50|   N|                N|      Linda Times 30|Her millions of f...| 2015-08-25|\n",
            "|         US|   49116462|R297QI4VU3LMY6|B00YI4B79W|     772368695|             Meliora|Digital_Music_Pur...|          4|           41|         50|   N|                N|Not A Review For ...|So here's the thi...| 2015-08-24|\n",
            "|         US|   46942146| RGNU1L1XFX33B|B012JM8L6G|     881736409|     Burning Bridges|Digital_Music_Pur...|          3|           34|         35|   N|                N|and weren't good ...|If you look at an...| 2015-08-24|\n",
            "|         US|   14708731|R2NPE00F48X0ET|B00YI4B79W|     772368695|             Meliora|Digital_Music_Pur...|          5|           22|         27|   N|                N|From the Pinnacle...|Bands that wholly...| 2015-08-24|\n",
            "|         US|   13189971| RSPQFPJ4ISKS3|B00YI4B79W|     772368695|             Meliora|Digital_Music_Pur...|          5|           32|         35|   N|                Y|   I Love This Album|It's hard to know...| 2015-08-24|\n",
            "|         US|   49608184|R3U75LKYXVWRG8|B010XN0IQO|     818607997|As Family We Go (...|Digital_Music_Pur...|          3|           18|         23|   N|                Y|There must be a r...|Why does almost a...| 2015-08-23|\n",
            "|         US|   49907247|R2Z6WUTQEXJWCR|B0108UOO7Q|     915620099|Immortalized [Exp...|Digital_Music_Pur...|          5|           18|         20|   N|                Y|And the Heavy Met...|Immortalized is t...| 2015-08-23|\n",
            "|         US|    7487669|R140Z5HP12GL1E|B010S37LDM|     655317938|        High Country|Digital_Music_Pur...|          5|           47|         56|   N|                Y|A much better exp...|'High Country' is...| 2015-08-22|\n",
            "|         US|   17026247|R25Q6S82PO8PHG|B0125KDCES|     826839790|The Oblivion Part...|Digital_Music_Pur...|          5|           23|         28|   N|                Y|If you liked the ...|SPOCK'S BEARD RET...| 2015-08-21|\n",
            "|         US|   14929324|R18VNEEQLPQPPO|B00ZF3SIDI|     565883355|Nathaniel Ratelif...|Digital_Music_Pur...|          5|          146|        153|   N|                Y|Fun!  A must purc...|So there I am doz...| 2015-08-21|\n",
            "|         US|   14504100|R2KTDZKWNKNXPE|B013XBYSE6|     379064655|    All of the Stars|Digital_Music_Pur...|          5|           20|         22|   N|                Y|A meaningful song...|On this cover of ...| 2015-08-21|\n",
            "|         US|   44131062|R1T2DZ27VMFSDV|B013XBYSE6|     379064655|    All of the Stars|Digital_Music_Pur...|          5|           18|         21|   N|                N|Jackie does it ag...|This song is a mu...| 2015-08-21|\n",
            "|         US|   17493933|R1L9S1598FPFFG|B0108UP3A8|     915620099|Immortalized (Del...|Digital_Music_Pur...|          5|           28|         33|   N|                Y|Fantastic Return ...|A fantastic retur...| 2015-08-21|\n",
            "|         US|   21644414|R1C9BQD9AA2C76|B0108UP3A8|     915620099|Immortalized (Del...|Digital_Music_Pur...|          5|           50|         53|   N|                Y|Killer Comeback f...|Excellent come ba...| 2015-08-21|\n",
            "|         US|   52912029| RXNMSLZ3KAT95|B00PJUM34M|     736481072|   We Shall Overcome|Digital_Music_Pur...|          5|           24|         25|   N|                Y|This is THE messa...|We have here an e...| 2015-08-21|\n",
            "+-----------+-----------+--------------+----------+--------------+--------------------+--------------------+-----------+-------------+-----------+----+-----------------+--------------------+--------------------+-----------+\n",
            "only showing top 20 rows\n",
            "\n"
          ],
          "name": "stdout"
        }
      ]
    },
    {
      "cell_type": "code",
      "metadata": {
        "colab": {
          "base_uri": "https://localhost:8080/"
        },
        "id": "nehdJnKA4f8i",
        "outputId": "4ddd66ca-5c62-40b8-99e2-4251de4c472a"
      },
      "source": [
        "#Filter the DataFrame or table created in the previous step, and create a new DataFrame or table that retrieves \n",
        "#all the rows where a review was written as part of the Vine program (paid), vine == 'Y'.\n",
        "vine_paid_df = df_greater_50.filter(df_greater_50.vine == 'Y')\n",
        "vine_paid_df.show()"
      ],
      "execution_count": 15,
      "outputs": [
        {
          "output_type": "stream",
          "text": [
            "+-----------+-----------+---------+----------+--------------+-------------+----------------+-----------+-------------+-----------+----+-----------------+---------------+-----------+-----------+\n",
            "|marketplace|customer_id|review_id|product_id|product_parent|product_title|product_category|star_rating|helpful_votes|total_votes|vine|verified_purchase|review_headline|review_body|review_date|\n",
            "+-----------+-----------+---------+----------+--------------+-------------+----------------+-----------+-------------+-----------+----+-----------------+---------------+-----------+-----------+\n",
            "+-----------+-----------+---------+----------+--------------+-------------+----------------+-----------+-------------+-----------+----+-----------------+---------------+-----------+-----------+\n",
            "\n"
          ],
          "name": "stdout"
        }
      ]
    },
    {
      "cell_type": "code",
      "metadata": {
        "colab": {
          "base_uri": "https://localhost:8080/"
        },
        "id": "oryBMSaz5Ogc",
        "outputId": "9b95f30c-066a-4060-8346-c50513b31697"
      },
      "source": [
        "#Repeat previous step, but this time retrieve all the rows where the review was not part of the Vine program (unpaid), vine == 'N'.\n",
        "vine_unpaid_df = df_greater_50.filter(df_greater_50.vine == 'N')\n",
        "vine_unpaid_df.show()"
      ],
      "execution_count": 16,
      "outputs": [
        {
          "output_type": "stream",
          "text": [
            "+-----------+-----------+--------------+----------+--------------+--------------------+--------------------+-----------+-------------+-----------+----+-----------------+--------------------+--------------------+-----------+\n",
            "|marketplace|customer_id|     review_id|product_id|product_parent|       product_title|    product_category|star_rating|helpful_votes|total_votes|vine|verified_purchase|     review_headline|         review_body|review_date|\n",
            "+-----------+-----------+--------------+----------+--------------+--------------------+--------------------+-----------+-------------+-----------+----+-----------------+--------------------+--------------------+-----------+\n",
            "|         US|   21585599|R1S0N56H5B9SUX|B00ZQKVD4Q|     550273770|        Live in Cuba|Digital_Music_Pur...|          5|           30|         30|   N|                Y|Excellent Jazz album|Excellent album. ...| 2015-08-31|\n",
            "|         US|   16227164| RCDI7Z8VCZJI9|B00YHTO1HS|     771772746|Badlands (Deluxe)...|Digital_Music_Pur...|          4|           40|         43|   N|                N|This Is What Owni...|I first heard Hal...| 2015-08-28|\n",
            "|         US|   13189348|R2LWBYC8TEUVF2|B00ZF3SIDI|     565883355|Nathaniel Ratelif...|Digital_Music_Pur...|          5|           50|         53|   N|                Y|Amazing! I discov...|Amazing!<br /><br...| 2015-08-26|\n",
            "|         US|   42571467|R23E4EIJXID5IC|B00PJUM34M|     736481072|   We Shall Overcome|Digital_Music_Pur...|          5|           43|         43|   N|                N|It's no \"Dark Sid...|If you put the al...| 2015-08-26|\n",
            "|         US|   13113713|R1WFSWDT8L5RSJ|B012JM8L6G|     881736409|     Burning Bridges|Digital_Music_Pur...|          4|           23|         26|   N|                N|Better than I exp...|Bon Jovi had a ro...| 2015-08-25|\n",
            "|         US|   43249739|R37LMHN02KOER1|B013L23ADM|     564719434|Just One Look: Cl...|Digital_Music_Pur...|          5|           50|         50|   N|                N|      Linda Times 30|Her millions of f...| 2015-08-25|\n",
            "|         US|   49116462|R297QI4VU3LMY6|B00YI4B79W|     772368695|             Meliora|Digital_Music_Pur...|          4|           41|         50|   N|                N|Not A Review For ...|So here's the thi...| 2015-08-24|\n",
            "|         US|   46942146| RGNU1L1XFX33B|B012JM8L6G|     881736409|     Burning Bridges|Digital_Music_Pur...|          3|           34|         35|   N|                N|and weren't good ...|If you look at an...| 2015-08-24|\n",
            "|         US|   14708731|R2NPE00F48X0ET|B00YI4B79W|     772368695|             Meliora|Digital_Music_Pur...|          5|           22|         27|   N|                N|From the Pinnacle...|Bands that wholly...| 2015-08-24|\n",
            "|         US|   13189971| RSPQFPJ4ISKS3|B00YI4B79W|     772368695|             Meliora|Digital_Music_Pur...|          5|           32|         35|   N|                Y|   I Love This Album|It's hard to know...| 2015-08-24|\n",
            "|         US|   49608184|R3U75LKYXVWRG8|B010XN0IQO|     818607997|As Family We Go (...|Digital_Music_Pur...|          3|           18|         23|   N|                Y|There must be a r...|Why does almost a...| 2015-08-23|\n",
            "|         US|   49907247|R2Z6WUTQEXJWCR|B0108UOO7Q|     915620099|Immortalized [Exp...|Digital_Music_Pur...|          5|           18|         20|   N|                Y|And the Heavy Met...|Immortalized is t...| 2015-08-23|\n",
            "|         US|    7487669|R140Z5HP12GL1E|B010S37LDM|     655317938|        High Country|Digital_Music_Pur...|          5|           47|         56|   N|                Y|A much better exp...|'High Country' is...| 2015-08-22|\n",
            "|         US|   17026247|R25Q6S82PO8PHG|B0125KDCES|     826839790|The Oblivion Part...|Digital_Music_Pur...|          5|           23|         28|   N|                Y|If you liked the ...|SPOCK'S BEARD RET...| 2015-08-21|\n",
            "|         US|   14929324|R18VNEEQLPQPPO|B00ZF3SIDI|     565883355|Nathaniel Ratelif...|Digital_Music_Pur...|          5|          146|        153|   N|                Y|Fun!  A must purc...|So there I am doz...| 2015-08-21|\n",
            "|         US|   14504100|R2KTDZKWNKNXPE|B013XBYSE6|     379064655|    All of the Stars|Digital_Music_Pur...|          5|           20|         22|   N|                Y|A meaningful song...|On this cover of ...| 2015-08-21|\n",
            "|         US|   44131062|R1T2DZ27VMFSDV|B013XBYSE6|     379064655|    All of the Stars|Digital_Music_Pur...|          5|           18|         21|   N|                N|Jackie does it ag...|This song is a mu...| 2015-08-21|\n",
            "|         US|   17493933|R1L9S1598FPFFG|B0108UP3A8|     915620099|Immortalized (Del...|Digital_Music_Pur...|          5|           28|         33|   N|                Y|Fantastic Return ...|A fantastic retur...| 2015-08-21|\n",
            "|         US|   21644414|R1C9BQD9AA2C76|B0108UP3A8|     915620099|Immortalized (Del...|Digital_Music_Pur...|          5|           50|         53|   N|                Y|Killer Comeback f...|Excellent come ba...| 2015-08-21|\n",
            "|         US|   52912029| RXNMSLZ3KAT95|B00PJUM34M|     736481072|   We Shall Overcome|Digital_Music_Pur...|          5|           24|         25|   N|                Y|This is THE messa...|We have here an e...| 2015-08-21|\n",
            "+-----------+-----------+--------------+----------+--------------+--------------------+--------------------+-----------+-------------+-----------+----+-----------------+--------------------+--------------------+-----------+\n",
            "only showing top 20 rows\n",
            "\n"
          ],
          "name": "stdout"
        }
      ]
    },
    {
      "cell_type": "code",
      "metadata": {
        "colab": {
          "base_uri": "https://localhost:8080/"
        },
        "id": "16K9Mdl65fZi",
        "outputId": "2c74a047-ef12-40e7-b9a0-1b835c14e92a"
      },
      "source": [
        "#Determine the total number of paid and unpaid reviews, \n",
        "#the number of paid and unpaid 5-star reviews, \n",
        "#and the percentage of 5-star reviews for the two types of review (paid vs unpaid).\n",
        "paid=vine_paid_df.count()\n",
        "paid"
      ],
      "execution_count": 28,
      "outputs": [
        {
          "output_type": "execute_result",
          "data": {
            "text/plain": [
              "0"
            ]
          },
          "metadata": {
            "tags": []
          },
          "execution_count": 28
        }
      ]
    },
    {
      "cell_type": "code",
      "metadata": {
        "colab": {
          "base_uri": "https://localhost:8080/"
        },
        "id": "ezWDqo7G6P4M",
        "outputId": "789d140f-77dc-4f96-ea03-37b252441840"
      },
      "source": [
        "unpaid=vine_unpaid_df.count()\n",
        "unpaid"
      ],
      "execution_count": 29,
      "outputs": [
        {
          "output_type": "execute_result",
          "data": {
            "text/plain": [
              "4532"
            ]
          },
          "metadata": {
            "tags": []
          },
          "execution_count": 29
        }
      ]
    },
    {
      "cell_type": "code",
      "metadata": {
        "colab": {
          "base_uri": "https://localhost:8080/"
        },
        "id": "0YedHA2O6Yvi",
        "outputId": "ca860f06-5e3b-47d4-e3da-3e6ad9d4d25a"
      },
      "source": [
        "paid_5 = vine_paid_df.filter(vine_paid_df.star_rating==5).count()\n",
        "paid_5"
      ],
      "execution_count": 22,
      "outputs": [
        {
          "output_type": "execute_result",
          "data": {
            "text/plain": [
              "0"
            ]
          },
          "metadata": {
            "tags": []
          },
          "execution_count": 22
        }
      ]
    },
    {
      "cell_type": "code",
      "metadata": {
        "colab": {
          "base_uri": "https://localhost:8080/"
        },
        "id": "a4hM_fMJ7DWe",
        "outputId": "d3e14f46-9fd3-46e6-e03f-2aa2b3c1a92b"
      },
      "source": [
        "unpaid_5 = vine_unpaid_df.filter(vine_unpaid_df.star_rating==5).count()\n",
        "unpaid_5"
      ],
      "execution_count": 24,
      "outputs": [
        {
          "output_type": "execute_result",
          "data": {
            "text/plain": [
              "2507"
            ]
          },
          "metadata": {
            "tags": []
          },
          "execution_count": 24
        }
      ]
    },
    {
      "cell_type": "code",
      "metadata": {
        "colab": {
          "base_uri": "https://localhost:8080/",
          "height": 180
        },
        "id": "NmXtRbUM7gJH",
        "outputId": "efbf1101-dc43-4f6d-cab6-20adc2011927"
      },
      "source": [
        "paid_percent = (paid_5/paid)*100 #gives error because can't divide by zero, but there were zero reviews \n",
        "paid_percent"
      ],
      "execution_count": 31,
      "outputs": [
        {
          "output_type": "error",
          "ename": "ZeroDivisionError",
          "evalue": "ignored",
          "traceback": [
            "\u001b[0;31m---------------------------------------------------------------------------\u001b[0m",
            "\u001b[0;31mZeroDivisionError\u001b[0m                         Traceback (most recent call last)",
            "\u001b[0;32m<ipython-input-31-f44383120def>\u001b[0m in \u001b[0;36m<module>\u001b[0;34m()\u001b[0m\n\u001b[0;32m----> 1\u001b[0;31m \u001b[0mpaid_percent\u001b[0m \u001b[0;34m=\u001b[0m \u001b[0;34m(\u001b[0m\u001b[0mpaid_5\u001b[0m\u001b[0;34m/\u001b[0m\u001b[0mpaid\u001b[0m\u001b[0;34m)\u001b[0m\u001b[0;34m*\u001b[0m\u001b[0;36m100\u001b[0m\u001b[0;34m\u001b[0m\u001b[0;34m\u001b[0m\u001b[0m\n\u001b[0m\u001b[1;32m      2\u001b[0m \u001b[0mpaid_percent\u001b[0m\u001b[0;34m\u001b[0m\u001b[0;34m\u001b[0m\u001b[0m\n",
            "\u001b[0;31mZeroDivisionError\u001b[0m: division by zero"
          ]
        }
      ]
    },
    {
      "cell_type": "code",
      "metadata": {
        "colab": {
          "base_uri": "https://localhost:8080/"
        },
        "id": "mMkHruvA84kA",
        "outputId": "0f991123-dfec-488c-b46f-ab7077915475"
      },
      "source": [
        "unpaid_percent = (unpaid_5/unpaid)*100\n",
        "unpaid_percent"
      ],
      "execution_count": 32,
      "outputs": [
        {
          "output_type": "execute_result",
          "data": {
            "text/plain": [
              "55.31774051191527"
            ]
          },
          "metadata": {
            "tags": []
          },
          "execution_count": 32
        }
      ]
    }
  ]
}